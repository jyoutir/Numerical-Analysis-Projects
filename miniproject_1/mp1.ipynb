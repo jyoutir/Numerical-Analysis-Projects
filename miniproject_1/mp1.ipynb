{
 "cells": [
  {
   "cell_type": "markdown",
   "id": "25ce4dd9-df39-4834-b77f-45bf352d657a",
   "metadata": {},
   "source": [
    "# Mini project 1: Choice 3\n",
    "\n",
    "Chopping, rounding and the Vancouver Stock exchange drop\n",
    "\n",
    "This assignment is inspired by the [Vancouver Stock exchange index](https://en.wikipedia.org/wiki/Vancouver_Stock_Exchange\n",
    "\"Go to external website\") that from 1982 to 1983 was losing around 25 points per month due to round-off errors.  \n",
    "## The task\n",
    "Write a python script that \n",
    "\n",
    "1. Sum 10000 random numbers and store the sum in full precision, rounding to 3 decimals after summing each term, chopping to 3 decimals after summing each term.   \n",
    "2. Stores in an array the three sums together with the number of terms $n$ summed for $n=1000, 2000, \\dots, 10000$.\n",
    "3. Saves the array to a file.\n",
    "\n",
    "## Description of the python script\n",
    "\n",
    "The code is similar to that of Guided Example 1: you should inspect that before continuing.\n",
    "\n",
    "* To carry out the sums use a `for` loop. The number of terms in the sum is given by the variable `N`. \n",
    "* To generate the random number use `random()`.\n",
    "* To round use `round(number, digits)` that rounds a number (`number`) to the given number (`digits`) of decimal places.\n",
    "* To chop use `chop(number, digits)` that chops a number (`number`) to the given number (`digits`) of decimal places. Contrary to `round`, this is not a python intrinsic function.\n",
    "* The array that stores the results is assigned to the variable `results`. \n",
    "* The number of terms `n` and the value of the sums  are stored in the first, second, third and fourth column of `results` when `n` in the sum is a multiple of 1000 (the variable `M`).    \n",
    "* The array `results` is written onto the file `table.csv`. The delimiter (character that separate columns) is set to `,` so that the resulting file is in the comma separated value. The `fmt`(format of the columns) is set to `%d,%8.3f,%8.3f,%8.3f`. \n",
    "\n",
    "## Running the code\n",
    "Hitting run should create the `table.csv` file that should appear in the files list of this repl. To see if the results are what you expect, click on the file. If the file content is what you expect, then follow the instructions on Canvas for the report for this assignment."
   ]
  },
  {
   "cell_type": "markdown",
   "id": "f33a9bee-1b28-462f-8d9a-5189ff190aac",
   "metadata": {},
   "source": [
    "# Python code\n"
   ]
  },
  {
   "cell_type": "code",
   "execution_count": 1,
   "id": "9cba5623-3fae-444e-91f1-56bfe641e34c",
   "metadata": {},
   "outputs": [],
   "source": [
    "import numpy as np\n",
    "from random import random\n",
    "from math import floor\n",
    "\n",
    "# parameters\n",
    "N = 10000\n",
    "M = 1000\n",
    "\n",
    "# set up sums\n",
    "sum_full_precision = 0.0\n",
    "sum_rounded = 0.0\n",
    "sum_chopped = 0.0\n",
    "\n",
    "# create results array\n",
    "results = np.zeros((int(N/M), 4))\n",
    "\n",
    "# chop function\n",
    "def chop(a, m):\n",
    "    return floor(a * 10**m) / 10**m\n",
    "\n",
    "# dooing summation\n",
    "for n in range(1, N + 1):\n",
    "    rand_num = random()\n",
    "    sum_full_precision += rand_num\n",
    "    sum_rounded += round(rand_num, 3)\n",
    "    sum_chopped += chop(rand_num, 3)\n",
    "    \n",
    "    # store every M terms \n",
    "    if n % M == 0:\n",
    "        index = int(n/M) - 1\n",
    "        results[index, 0] = n\n",
    "        results[index, 1] = sum_full_precision\n",
    "        results[index, 2] = sum_rounded\n",
    "        results[index, 3] = sum_chopped\n",
    "\n",
    "# save to csv\n",
    "np.savetxt('table.csv', results, delimiter=',', fmt='%d,%8.3f,%8.3f,%8.3f')\n"
   ]
  }
 ],
 "metadata": {
  "kernelspec": {
   "display_name": "Python 3 (ipykernel)",
   "language": "python",
   "name": "python3"
  },
  "language_info": {
   "codemirror_mode": {
    "name": "ipython",
    "version": 3
   },
   "file_extension": ".py",
   "mimetype": "text/x-python",
   "name": "python",
   "nbconvert_exporter": "python",
   "pygments_lexer": "ipython3",
   "version": "3.12.1"
  }
 },
 "nbformat": 4,
 "nbformat_minor": 5
}
