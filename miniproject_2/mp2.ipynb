{
 "cells": [
  {
   "cell_type": "markdown",
   "id": "1708ac8e-b4c3-4c5a-a0d9-2ae6676db563",
   "metadata": {},
   "source": [
    "# Miniproject 2: The project\n",
    "\n",
    "## Introduction\n",
    "The error function is defined as\n",
    "$$\n",
    "\\mbox{erf}(z) = \\frac{2}{\\sqrt{\\pi}}\\int_0^z e^{-t^2} dt.\n",
    "$$\n",
    "\n",
    "In python its value for a given $z$, e.g. for  $z=$ 1 is found by calling \n",
    "```python\n",
    "math.erf(1)\n",
    "```\n",
    "The Taylor polynomial, $P_N(z)$, of order $N$ about the origin which approximates $\\mbox{erf}(z)$ is\n",
    "$$\n",
    "P_N(z) = \\frac{2}{\\sqrt{\\pi}}\\sum_{n=0}^N \\frac{(-1)^nz^{2n+1}}{n!(2n+1)}.\n",
    "$$\n",
    "\n",
    "We want to study how well $P_N(z)$ approximates $\\mbox{erf}(z)$. \n",
    "\n",
    "Before completing this miniproject be sure to study Guided Example 2.\n",
    "\n",
    "## Tasks\n",
    "To this objective:\n",
    "* Write a python function `errfun` that takes as input arguments:\n",
    "  * the order `N` of the approximating Taylor polynomial \n",
    "  * the value `z` at which the erf is evaluated.\n",
    "The function returns the Taylor polynomial at z for the chosen N. \n",
    "Use `math.factorial(n)` to calculate the factorial of `n`.\n",
    "_Tip: Before proceeding to the next task, make sure that you coded the Taylor plynomial correctly by verifying that it returns the same value as `math.erf`. For example, for `z = 1` and `N = 18` the polynomial should return the same as the python function._\n",
    "* Write a python function `ErrSequence` \n",
    " that takes as input arguments:\n",
    "  * the value `z` at which the erf is evaluated\n",
    "  * the minimum difference `eps`. \n",
    "The function returns the list of the absolute value of the differences (use `abs`) between the erf function calculated with `math.erf` (that we consider as the reference value) and Taylor polynomial of increasing order calculated with `errfun`. Use a `while` loop that appends values to the list while the difference is larger than `eps`.\n",
    "* Write the main script that \n",
    "  * generates the lists of differences for `z= 0.1, 1.0, 2.0, 3.0`. Choose `eps` to be `1e-15` except for `z = 3.0` for which choose `eps = 1e-13`. \n",
    "  * plot the differences as a function of the number of iterations, for all values of $z$. Use a logarithmic scale for the differences. Add the labels for the axes and a legend. Save the file in a PDF file.   "
   ]
  },
  {
   "cell_type": "markdown",
   "id": "b0fe39f5-9872-4c94-b19a-90e05c6e8eb4",
   "metadata": {},
   "source": [
    "# Python code\n"
   ]
  },
  {
   "cell_type": "code",
   "execution_count": 2,
   "id": "28ab4bfa-107d-45bc-b11e-44ed529d1c3f",
   "metadata": {},
   "outputs": [],
   "source": [
    "#\n",
    "# Functions\n",
    "#\n",
    "\n",
    "import math\n",
    "\n",
    "def errfun(z,N):\n",
    "  #\n",
    "  # add your code here\n",
    "  #\n",
    "  return\n",
    "    \n",
    "def ErrSequence(z,eps):\n",
    "  #\n",
    "  # add your code here\n",
    "  #\n",
    "  return\n",
    "\n",
    "#\n",
    "# MAIN SCRIPT\n",
    "#\n",
    "\n",
    "import matplotlib.pyplot as pl  \n",
    "\n",
    "#\n",
    "# code here\n",
    "# "
   ]
  }
 ],
 "metadata": {
  "kernelspec": {
   "display_name": "Python 3 (ipykernel)",
   "language": "python",
   "name": "python3"
  },
  "language_info": {
   "codemirror_mode": {
    "name": "ipython",
    "version": 3
   },
   "file_extension": ".py",
   "mimetype": "text/x-python",
   "name": "python",
   "nbconvert_exporter": "python",
   "pygments_lexer": "ipython3",
   "version": "3.12.1"
  }
 },
 "nbformat": 4,
 "nbformat_minor": 5
}
